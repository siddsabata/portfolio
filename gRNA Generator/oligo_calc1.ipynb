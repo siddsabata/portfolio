{
 "cells": [
  {
   "cell_type": "markdown",
   "metadata": {},
   "source": [
    "1. gRNA calculator"
   ]
  },
  {
   "cell_type": "code",
   "execution_count": 8,
   "metadata": {},
   "outputs": [],
   "source": [
    "from Bio import SeqIO\n",
    "from Bio import Seq\n",
    "import csv\n",
    "import numpy\n",
    "import pandas as pd\n",
    "\n",
    "def pam_calc2(chromosome_file, gene_start, gene_end, insert, direction, num_rows):\n",
    "    \"\"\"\n",
    "    The purpose of this function is to return n number (inputted) of optimal PAMs \n",
    "    within a gene given a certain insertion site. Inputs needed are a genbank\n",
    "    file of the chromosome, the start and ending positions of the gene on the\n",
    "    chromosome, the insertion site (with relation to the entire chromosome), and\n",
    "    n number of optimal PAMs desired in the output. \n",
    "    \"\"\"\n",
    "    # load chromosome and deal with forward case \n",
    "    load = SeqIO.read(chromosome_file, 'genbank')\n",
    "    chromosome = load.seq\n",
    "    chromosome_length = len(chromosome)\n",
    "    fwd_gene = chromosome[gene_start - 2:gene_end + 2]\n",
    "    fwd_insert = insert\n",
    "    \n",
    "    # deal with reverse case\n",
    "    rev_chromosome = chromosome.reverse_complement()\n",
    "    rev_gene_start = chromosome_length - gene_start\n",
    "    rev_gene_end = chromosome_length - gene_end\n",
    "    rev_gene = rev_chromosome[rev_gene_end - 2:rev_gene_start + 2]\n",
    "    rev_insert = chromosome_length - fwd_insert\n",
    "\n",
    "    # make a table where PAMs will be entered\n",
    "    pams = pd.DataFrame(columns = ['PAM', 'position', 'insert dist', 'gRNA',\n",
    "    'gRNA start', 'gRNA end'])\n",
    "    if (direction == \"+\"):\n",
    "        # forward case \n",
    "        for x in range(len(fwd_gene)): \n",
    "            # define current position in relation to chromosome \n",
    "            current_chromosome_pos = x + (gene_start - 2)\n",
    "            # calculate distance from current position to insert \n",
    "            current_distance = current_chromosome_pos - fwd_insert\n",
    "            # define current search (3 nucleotides)\n",
    "            current_search = fwd_gene[x:x+3] \n",
    "            # check to see if the current_search is a PAM \n",
    "            if((current_search == 'AGG') or (current_search == 'TGG') or (current_search == 'GGG') or (current_search == 'CGG')):\n",
    "                # make gRNA molecule\n",
    "                gRNA_start = current_chromosome_pos - 20\n",
    "                gRNA_end = current_chromosome_pos\n",
    "                gRNA = chromosome[gRNA_start:gRNA_end]\n",
    "                # append PAM to dataframe\n",
    "                pams = pams.append({'PAM': str(current_search), 'position': \n",
    "                    current_chromosome_pos, 'insert dist': current_distance,\n",
    "                    'gRNA': str(gRNA), 'gRNA start': gRNA_start, 'gRNA end':\n",
    "                    gRNA_end}, ignore_index=True)\n",
    "    if(direction == \"-\"):\n",
    "        # reverse case \n",
    "        for x in range (len(rev_gene)): \n",
    "            # define current position in relation to chromosme \n",
    "            current_chromosome_pos = x + (rev_gene_start - 2)\n",
    "            # calculate distance from current position to insert \n",
    "            current_distance = current_chromosome_pos - rev_insert\n",
    "            # define current search (3 nucleotides)\n",
    "            current_search = rev_gene[x:x+3] \n",
    "            # check to see if the current_search is a PAM \n",
    "            if((current_search == 'CCA') or (current_search == 'CCT') or (current_search == 'CCG') or (current_search == 'CCC')):\n",
    "                # make gRNA molecule\n",
    "                gRNA_start = current_chromosome_pos - 20\n",
    "                gRNA_end = current_chromosome_pos\n",
    "                gRNA = chromosome[gRNA_start:gRNA_end]\n",
    "                # append PAM to dataframe\n",
    "                pams = pams.append({'PAM': str(current_search), 'position': \n",
    "                    current_chromosome_pos, 'insert dist': current_distance, \n",
    "                    'gRNA': str(gRNA), 'gRNA start': gRNA_start, 'gRNA end':\n",
    "                    gRNA_end}, ignore_index=True) \n",
    "    \n",
    "\n",
    "    # sort dataframe based on distance between insert and PAMs\n",
    "    pams = pams.sort_values(by = 'insert dist') \n",
    "\n",
    "    # return num_rows of 'pams' dataframe \n",
    "    # return pams.head(num_rows)\n",
    "    # return entire table\n",
    "    return pams\n"
   ]
  },
  {
   "cell_type": "markdown",
   "metadata": {},
   "source": [
    "gene: ADE2 (-)\n",
    "\n",
    "position: 565619\n",
    "\n",
    "n: 10"
   ]
  },
  {
   "cell_type": "code",
   "execution_count": 9,
   "metadata": {},
   "outputs": [
    {
     "name": "stdout",
     "output_type": "stream",
     "text": [
      "    PAM position insert dist                  gRNA gRNA start gRNA end\n",
      "0   CCT   526927        1255  CCGTAAACGAATACGTAAGT     526907   526927\n",
      "1   CCA   526931        1259  AAACGAATACGTAAGTACGA     526911   526931\n",
      "2   CCA   526949        1277  GAAATTACAAAGCATGTCTG     526929   526949\n",
      "3   CCA   526956        1284  CAAAGCATGTCTGATAAGTT     526936   526956\n",
      "4   CCT   526970        1298  TAAGTTCACATCAACCTCCA     526950   526970\n",
      "..  ...      ...         ...                   ...        ...      ...\n",
      "57  CCC   528274        2602  CTGCATCGTTGTCATCTGTG     528254   528274\n",
      "58  CCG   528275        2603  TGCATCGTTGTCATCTGTGA     528255   528275\n",
      "59  CCT   528331        2659  ATAGACGAATTCCACCACCA     528311   528331\n",
      "60  CCA   528343        2671  CACCACCAGGTTTTAGTCAA     528323   528343\n",
      "61  CCG   528353        2681  TTTTAGTCAAAATATATTAA     528333   528353\n",
      "\n",
      "[62 rows x 6 columns]\n"
     ]
    }
   ],
   "source": [
    "from Bio import SeqIO\n",
    "from Bio import Seq\n",
    "import csv\n",
    "import numpy\n",
    "import pandas as pd\n",
    "import os\n",
    "\n",
    "file = 'chromosome 15.flat'          # chromosome file associated with ADE2\n",
    "start = 564475                       # start of gene on chromosome\n",
    "end = 566191                         # end of gene on chromosome\n",
    "insert = 565619                      # insert site \n",
    "num_rows = 10                        # 'n'\n",
    "direction = \"-\"                      # direction of transcribed gene\n",
    "\n",
    "'''\n",
    "IMPORTANT: what strand do we want our gRNA to be based off (5' -> 3' or 3' -> 5'?).\n",
    "This gene is transcribed on the 3' -> 5' (-)\n",
    "'''\n",
    "\n",
    "table = pam_calc2(file, start, end, insert, direction, num_rows) \n",
    "print(table)\n"
   ]
  },
  {
   "cell_type": "markdown",
   "metadata": {},
   "source": [
    "From here, we have our table of possible PAMS. We need to automate the selection process of the most\n",
    "optimal PAM/gRNA pair."
   ]
  },
  {
   "cell_type": "code",
   "execution_count": 10,
   "metadata": {},
   "outputs": [
    {
     "name": "stdout",
     "output_type": "stream",
     "text": [
      "    PAM position insert dist                  gRNA gRNA start gRNA end\n",
      "0   CCT   526927        1255  CCGTAAACGAATACGTAAGT     526907   526927\n",
      "1   CCA   526931        1259  AAACGAATACGTAAGTACGA     526911   526931\n",
      "2   CCA   526949        1277  GAAATTACAAAGCATGTCTG     526929   526949\n",
      "3   CCA   526956        1284  CAAAGCATGTCTGATAAGTT     526936   526956\n",
      "4   CCT   526970        1298  TAAGTTCACATCAACCTCCA     526950   526970\n",
      "..  ...      ...         ...                   ...        ...      ...\n",
      "57  CCC   528274        2602  CTGCATCGTTGTCATCTGTG     528254   528274\n",
      "58  CCG   528275        2603  TGCATCGTTGTCATCTGTGA     528255   528275\n",
      "59  CCT   528331        2659  ATAGACGAATTCCACCACCA     528311   528331\n",
      "60  CCA   528343        2671  CACCACCAGGTTTTAGTCAA     528323   528343\n",
      "61  CCG   528353        2681  TTTTAGTCAAAATATATTAA     528333   528353\n",
      "\n",
      "[62 rows x 6 columns]\n",
      "PAM                             CCT\n",
      "position                     526927\n",
      "insert dist                    1255\n",
      "gRNA           CCGTAAACGAATACGTAAGT\n",
      "gRNA start                   526907\n",
      "gRNA end                     526927\n",
      "Name: 0, dtype: object\n"
     ]
    }
   ],
   "source": [
    "from Bio import SeqIO\n",
    "from Bio import Seq\n",
    "import csv\n",
    "import numpy\n",
    "import pandas as pd\n",
    "import os\n",
    "\n",
    "# first sort list based on absolute value of distances from insert \n",
    "table['insert dist'] = table['insert dist'].abs()\n",
    "table = table.sort_values(by = 'insert dist') \n",
    "print(table)\n",
    "# let's assume most optimal gRNA has the closest insert distance (first row in df)\n",
    "selection = table.iloc[0]\n",
    "print(selection)\n"
   ]
  },
  {
   "cell_type": "markdown",
   "metadata": {},
   "source": [
    "This is weird... why is the closest PAM 1255 base pairs away? is it possible to have regions of the \n",
    "\n",
    "the gene that don't have any PAMs? \n",
    "\n",
    "Also, do we want the gRNA to bind to the strand of the gene or be identical to the strand of the gene?\n",
    "\n",
    "Going under the assumption that the gRNA needs to be on the same strand as the gene. "
   ]
  },
  {
   "cell_type": "markdown",
   "metadata": {},
   "source": [
    "2. Template DNA "
   ]
  },
  {
   "cell_type": "code",
   "execution_count": null,
   "metadata": {},
   "outputs": [],
   "source": [
    "from Bio import SeqIO\n",
    "from Bio import Seq\n",
    "import csv\n",
    "import numpy\n",
    "import pandas as pd\n",
    "import os\n",
    "\n",
    "# import LOV domain via biopython \n",
    "'''\n",
    "Where do I get the LOV domain from? Need a .gb file or something along those lines. \n",
    "'''"
   ]
  },
  {
   "cell_type": "markdown",
   "metadata": {},
   "source": [
    "3. 31-mer Barcode"
   ]
  },
  {
   "cell_type": "code",
   "execution_count": null,
   "metadata": {},
   "outputs": [],
   "source": [
    "from Bio import SeqIO\n",
    "from Bio import Seq\n",
    "import csv\n",
    "import numpy\n",
    "import pandas as pd\n",
    "import os\n",
    "\n",
    "'''\n",
    "What is this exactly?\n",
    "'''"
   ]
  }
 ],
 "metadata": {
  "interpreter": {
   "hash": "aee8b7b246df8f9039afb4144a1f6fd8d2ca17a180786b69acc140d282b71a49"
  },
  "kernelspec": {
   "display_name": "Python 3.9.4 64-bit",
   "language": "python",
   "name": "python3"
  },
  "language_info": {
   "codemirror_mode": {
    "name": "ipython",
    "version": 3
   },
   "file_extension": ".py",
   "mimetype": "text/x-python",
   "name": "python",
   "nbconvert_exporter": "python",
   "pygments_lexer": "ipython3",
   "version": "3.9.4"
  },
  "orig_nbformat": 4
 },
 "nbformat": 4,
 "nbformat_minor": 2
}
