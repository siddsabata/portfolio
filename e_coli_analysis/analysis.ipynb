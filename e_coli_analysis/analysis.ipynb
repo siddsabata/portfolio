{
 "cells": [
  {
   "cell_type": "markdown",
   "id": "9b4d6836-433f-49c6-bf79-7f4f90c41f3b",
   "metadata": {},
   "source": [
    "### Read JSON file"
   ]
  },
  {
   "cell_type": "code",
   "execution_count": 4,
   "id": "816fc337-e4a3-4aba-a5ba-9f37a7fa880f",
   "metadata": {},
   "outputs": [
    {
     "name": "stdout",
     "output_type": "stream",
     "text": [
      "{'apiVersion': 'V2', 'assemblies': [{'files': [{'filePath': 'data_summary.tsv', 'fileType': 'DATA_TABLE'}, {'filePath': 'assembly_data_report.jsonl', 'fileType': 'DATA_REPORT'}]}, {'accession': 'GCA_000005845.2', 'files': [{'filePath': 'GCA_000005845.2/GCA_000005845.2_ASM584v2_genomic.fna', 'fileType': 'GENOMIC_NUCLEOTIDE_FASTA'}, {'filePath': 'GCA_000005845.2/genomic.gtf', 'fileType': 'GTF'}, {'filePath': 'GCA_000005845.2/genomic.gff', 'fileType': 'GFF3'}, {'filePath': 'GCA_000005845.2/genomic.gbff', 'fileType': 'GENBANK_FLAT_FILE'}, {'filePath': 'GCA_000005845.2/cds_from_genomic.fna', 'fileType': 'CDS_NUCLEOTIDE_FASTA'}, {'filePath': 'GCA_000005845.2/protein.faa', 'fileType': 'PROTEIN_FASTA'}, {'filePath': 'GCA_000005845.2/sequence_report.jsonl', 'fileType': 'SEQUENCE_REPORT'}]}, {'accession': 'GCF_000005845.2', 'files': [{'filePath': 'GCF_000005845.2/GCF_000005845.2_ASM584v2_genomic.fna', 'fileType': 'GENOMIC_NUCLEOTIDE_FASTA'}, {'filePath': 'GCF_000005845.2/genomic.gtf', 'fileType': 'GTF'}, {'filePath': 'GCF_000005845.2/genomic.gff', 'fileType': 'GFF3'}, {'filePath': 'GCF_000005845.2/genomic.gbff', 'fileType': 'GENBANK_FLAT_FILE'}, {'filePath': 'GCF_000005845.2/cds_from_genomic.fna', 'fileType': 'CDS_NUCLEOTIDE_FASTA'}, {'filePath': 'GCF_000005845.2/protein.faa', 'fileType': 'PROTEIN_FASTA'}, {'filePath': 'GCF_000005845.2/sequence_report.jsonl', 'fileType': 'SEQUENCE_REPORT'}]}]}\n"
     ]
    }
   ],
   "source": [
    "import json\n",
    "\n",
    "# Open the file\n",
    "with open('/Users/siddharthsabata/Documents/portfolio/e_coli_analysis/data/dataset_catalog.json') as f:\n",
    "    data = json.load(f)\n",
    "\n",
    "print(data)"
   ]
  },
  {
   "cell_type": "code",
   "execution_count": null,
   "id": "18ea7520-62e3-4bc8-a967-dbceffbea0c9",
   "metadata": {},
   "outputs": [],
   "source": [
    "from Bio import SeqIO\n",
    "\n",
    "for seq_record in SeqIO.parse('/Users/siddharthsabata/Documents/portfolio/e_coli_analysis/data/GCA_000005845.2/cds_from_genomic.fna', 'fasta'):\n",
    "    print(seq_record.id)\n",
    "    print(repr(seq_record.seq))\n",
    "    print(len(seq_record))"
   ]
  },
  {
   "cell_type": "code",
   "execution_count": null,
   "id": "d1b63845",
   "metadata": {},
   "outputs": [],
   "source": []
  }
 ],
 "metadata": {
  "kernelspec": {
   "display_name": "Python 3 (ipykernel)",
   "language": "python",
   "name": "python3"
  },
  "language_info": {
   "codemirror_mode": {
    "name": "ipython",
    "version": 3
   },
   "file_extension": ".py",
   "mimetype": "text/x-python",
   "name": "python",
   "nbconvert_exporter": "python",
   "pygments_lexer": "ipython3",
   "version": "3.10.9"
  }
 },
 "nbformat": 4,
 "nbformat_minor": 5
}
