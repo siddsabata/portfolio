{
 "cells": [
  {
   "cell_type": "code",
   "execution_count": 2,
   "metadata": {},
   "outputs": [
    {
     "data": {
      "text/plain": [
       "AIMessage(content='Langsmith can help with testing in several ways:\\n\\n1. Test Automation: Langsmith can generate test scripts and automate the execution of test cases. This can help in reducing manual effort and speeding up the testing process.\\n\\n2. Test Data Generation: Langsmith can generate realistic test data for different scenarios, including edge cases and negative testing. This helps in ensuring comprehensive test coverage.\\n\\n3. Test Case Generation: Langsmith can automatically generate test cases based on the specifications or requirements provided. This ensures that all possible scenarios are considered for testing.\\n\\n4. Test Environment Setup: Langsmith can assist in setting up test environments by automating the installation and configuration of required software, databases, or other dependencies.\\n\\n5. Test Result Analysis: Langsmith can analyze test results and provide insights on the areas that need attention or improvement. This helps in identifying and fixing defects early in the development cycle.\\n\\n6. Test Coverage Analysis: Langsmith can analyze the coverage of tests and identify any gaps or areas that lack sufficient test coverage. This helps in improving the effectiveness of testing.\\n\\nOverall, Langsmith can enhance the efficiency, accuracy, and comprehensiveness of testing processes, making it a valuable tool for testers.')"
      ]
     },
     "execution_count": 2,
     "metadata": {},
     "output_type": "execute_result"
    }
   ],
   "source": [
    "from langchain_openai import ChatOpenAI\n",
    "import os\n",
    "from dotenv import load_dotenv  # for loading api key\n",
    "\n",
    "load_dotenv('.env')\n",
    "\n",
    "openai_api_key = os.getenv('OPENAI_API_KEY')\n",
    "\n",
    "llm = ChatOpenAI()\n",
    "llm = ChatOpenAI(openai_api_key=openai_api_key)\n",
    "llm.invoke(\"how can langsmith help with testing?\")"
   ]
  }
 ],
 "metadata": {
  "kernelspec": {
   "display_name": "base",
   "language": "python",
   "name": "python3"
  },
  "language_info": {
   "codemirror_mode": {
    "name": "ipython",
    "version": 3
   },
   "file_extension": ".py",
   "mimetype": "text/x-python",
   "name": "python",
   "nbconvert_exporter": "python",
   "pygments_lexer": "ipython3",
   "version": "3.10.13"
  }
 },
 "nbformat": 4,
 "nbformat_minor": 2
}
